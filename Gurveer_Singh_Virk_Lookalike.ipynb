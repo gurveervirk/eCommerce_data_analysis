{
 "cells": [
  {
   "cell_type": "markdown",
   "metadata": {},
   "source": [
    "**Feature Selection Rationale**\n",
    "\n",
    "The goal of feature selection is to choose variables that are likely to be good indicators of customer similarity. We want features that capture:\n",
    "\n",
    "1. **Customer Demographics:** Basic information about the customer.\n",
    "2. **Purchase Behavior:** How much, how often, and what they buy.\n",
    "3. **Engagement/Recency:** How recently they have interacted with the platform.\n",
    "\n",
    "Here's the rationale for each feature:\n",
    "\n",
    "**Customer Features:**\n",
    "\n",
    "*   **Region (One-Hot Encoded):**\n",
    "    *   **Reasoning:** Customers from the same region might share similar preferences, cultural influences, or economic backgrounds, which could affect their purchasing behavior. One-hot encoding allows us to use this categorical variable in numerical similarity calculations.\n",
    "*   **SignupYear:**\n",
    "    *   **Reasoning:** The year a customer signed up can be a proxy for their experience with the platform or their potential loyalty. Customers who signed up around the same time might have been exposed to similar marketing campaigns or platform features.\n",
    "*   **SignupMonth:**\n",
    "    *   **Reasoning:** The month of signup might capture some seasonal effects. For example, customers who signed up during a holiday season might have different purchase patterns than those who signed up during other times of the year.\n",
    "*   **DaysSinceSignup:**\n",
    "    *   **Reasoning:** This feature captures the customer's tenure or how long they've been a customer. Longer-tenured customers might have different purchase behaviors (e.g., more loyalty, higher spending) compared to newer customers.\n",
    "\n",
    "**Transaction Features:**\n",
    "\n",
    "*   **TotalSpending:**\n",
    "    *   **Reasoning:** This is a direct measure of the customer's overall value to the business. Customers who spend similar amounts are likely to be similar in terms of their purchasing power or their level of engagement with the platform.\n",
    "*   **NumPurchases:**\n",
    "    *   **Reasoning:** This feature reflects the customer's purchase frequency. Customers who make a similar number of purchases might have similar needs or shopping habits.\n",
    "*   **AvgPurchaseValue:**\n",
    "    *   **Reasoning:** This captures the average amount spent per transaction. It helps to distinguish between customers who make many small purchases and those who make fewer but larger purchases.\n",
    "*   **Category Purchases (One-Hot Encoded):**\n",
    "    *   **Reasoning:** The categories a customer buys from are strong indicators of their preferences and interests. Customers who buy from similar categories are likely to be similar in terms of their needs or lifestyle. One-hot encoding allows us to represent these preferences as binary features.\n",
    "*   **Recency:**\n",
    "    *   **Reasoning:** This feature indicates how recently a customer has made a purchase. Customers who have purchased recently are more likely to be actively engaged with the platform. Similar recency suggests similar current engagement levels.\n",
    "\n",
    "**Why These Features?**\n",
    "\n",
    "*   **Relevance to Similarity:** Each of these features is potentially relevant to determining customer similarity in the context of an eCommerce business. They capture different aspects of a customer's profile and behavior that could influence their preferences and future actions.\n",
    "*   **Availability:** These features can be derived from the commonly available data in customer and transaction datasets.\n",
    "*   **Interpretability:** The features are relatively easy to understand and interpret, which makes it easier to explain the model's recommendations.\n",
    "\n",
    "**Why Cosine Similarity?**\n",
    "\n",
    "Cosine similarity is a good choice for this problem because:\n",
    "\n",
    "*   **High-Dimensional Data:** It works well with high-dimensional data, which is common in lookalike models where we have many features (especially after one-hot encoding).\n",
    "*   **Magnitude Invariance:** It focuses on the angle between vectors, not their magnitudes. This is important because we want to consider customers similar even if one has made many more purchases than the other, as long as their purchase patterns and preferences are similar.\n",
    "\n",
    "**Why Standardize Numerical Features?**\n",
    "\n",
    "Standardization (scaling to zero mean and unit variance) is important for numerical features because:\n",
    "\n",
    "*   **Equal Weighting:** Features with larger values or ranges can disproportionately influence distance-based similarity measures like cosine similarity. Standardization ensures that all numerical features contribute equally to the similarity calculation.\n"
   ]
  },
  {
   "cell_type": "markdown",
   "metadata": {},
   "source": [
    "# Data Loading and Preprocessing"
   ]
  },
  {
   "cell_type": "markdown",
   "metadata": {},
   "source": [
    "## Load dependencies"
   ]
  },
  {
   "cell_type": "code",
   "execution_count": 3,
   "metadata": {},
   "outputs": [],
   "source": [
    "import pandas as pd\n",
    "from sklearn.preprocessing import StandardScaler\n",
    "from sklearn.metrics.pairwise import cosine_similarity\n",
    "from datetime import datetime"
   ]
  },
  {
   "cell_type": "markdown",
   "metadata": {},
   "source": [
    "## Load the datasets"
   ]
  },
  {
   "cell_type": "code",
   "execution_count": null,
   "metadata": {},
   "outputs": [],
   "source": [
    "customers = pd.read_csv('data/Customers.csv')\n",
    "products = pd.read_csv('data/Products.csv')\n",
    "transactions = pd.read_csv('data/Transactions.csv')"
   ]
  },
  {
   "cell_type": "markdown",
   "metadata": {},
   "source": [
    "## Preprocess the datasets"
   ]
  },
  {
   "cell_type": "code",
   "execution_count": 5,
   "metadata": {},
   "outputs": [],
   "source": [
    "# Convert date columns to datetime objects\n",
    "customers['SignupDate'] = pd.to_datetime(customers['SignupDate'])\n",
    "transactions['TransactionDate'] = pd.to_datetime(transactions['TransactionDate'])\n",
    "\n",
    "# Merge transactions with products to get product category information\n",
    "transactions = pd.merge(transactions, products[['ProductID', 'Category']], on='ProductID')"
   ]
  },
  {
   "cell_type": "code",
   "execution_count": 12,
   "metadata": {},
   "outputs": [
    {
     "data": {
      "text/html": [
       "<div>\n",
       "<style scoped>\n",
       "    .dataframe tbody tr th:only-of-type {\n",
       "        vertical-align: middle;\n",
       "    }\n",
       "\n",
       "    .dataframe tbody tr th {\n",
       "        vertical-align: top;\n",
       "    }\n",
       "\n",
       "    .dataframe thead th {\n",
       "        text-align: right;\n",
       "    }\n",
       "</style>\n",
       "<table border=\"1\" class=\"dataframe\">\n",
       "  <thead>\n",
       "    <tr style=\"text-align: right;\">\n",
       "      <th></th>\n",
       "      <th>TransactionID</th>\n",
       "      <th>CustomerID</th>\n",
       "      <th>ProductID</th>\n",
       "      <th>TransactionDate</th>\n",
       "      <th>Quantity</th>\n",
       "      <th>TotalValue</th>\n",
       "      <th>Price</th>\n",
       "      <th>Category</th>\n",
       "    </tr>\n",
       "  </thead>\n",
       "  <tbody>\n",
       "    <tr>\n",
       "      <th>0</th>\n",
       "      <td>T00001</td>\n",
       "      <td>C0199</td>\n",
       "      <td>P067</td>\n",
       "      <td>2024-08-25 12:38:23</td>\n",
       "      <td>1</td>\n",
       "      <td>300.68</td>\n",
       "      <td>300.68</td>\n",
       "      <td>Electronics</td>\n",
       "    </tr>\n",
       "    <tr>\n",
       "      <th>1</th>\n",
       "      <td>T00112</td>\n",
       "      <td>C0146</td>\n",
       "      <td>P067</td>\n",
       "      <td>2024-05-27 22:23:54</td>\n",
       "      <td>1</td>\n",
       "      <td>300.68</td>\n",
       "      <td>300.68</td>\n",
       "      <td>Electronics</td>\n",
       "    </tr>\n",
       "    <tr>\n",
       "      <th>2</th>\n",
       "      <td>T00166</td>\n",
       "      <td>C0127</td>\n",
       "      <td>P067</td>\n",
       "      <td>2024-04-25 07:38:55</td>\n",
       "      <td>1</td>\n",
       "      <td>300.68</td>\n",
       "      <td>300.68</td>\n",
       "      <td>Electronics</td>\n",
       "    </tr>\n",
       "    <tr>\n",
       "      <th>3</th>\n",
       "      <td>T00272</td>\n",
       "      <td>C0087</td>\n",
       "      <td>P067</td>\n",
       "      <td>2024-03-26 22:55:37</td>\n",
       "      <td>2</td>\n",
       "      <td>601.36</td>\n",
       "      <td>300.68</td>\n",
       "      <td>Electronics</td>\n",
       "    </tr>\n",
       "    <tr>\n",
       "      <th>4</th>\n",
       "      <td>T00363</td>\n",
       "      <td>C0070</td>\n",
       "      <td>P067</td>\n",
       "      <td>2024-03-21 15:10:10</td>\n",
       "      <td>3</td>\n",
       "      <td>902.04</td>\n",
       "      <td>300.68</td>\n",
       "      <td>Electronics</td>\n",
       "    </tr>\n",
       "    <tr>\n",
       "      <th>...</th>\n",
       "      <td>...</td>\n",
       "      <td>...</td>\n",
       "      <td>...</td>\n",
       "      <td>...</td>\n",
       "      <td>...</td>\n",
       "      <td>...</td>\n",
       "      <td>...</td>\n",
       "      <td>...</td>\n",
       "    </tr>\n",
       "    <tr>\n",
       "      <th>995</th>\n",
       "      <td>T00496</td>\n",
       "      <td>C0118</td>\n",
       "      <td>P037</td>\n",
       "      <td>2024-10-24 08:30:27</td>\n",
       "      <td>1</td>\n",
       "      <td>459.86</td>\n",
       "      <td>459.86</td>\n",
       "      <td>Electronics</td>\n",
       "    </tr>\n",
       "    <tr>\n",
       "      <th>996</th>\n",
       "      <td>T00759</td>\n",
       "      <td>C0059</td>\n",
       "      <td>P037</td>\n",
       "      <td>2024-06-04 02:15:24</td>\n",
       "      <td>3</td>\n",
       "      <td>1379.58</td>\n",
       "      <td>459.86</td>\n",
       "      <td>Electronics</td>\n",
       "    </tr>\n",
       "    <tr>\n",
       "      <th>997</th>\n",
       "      <td>T00922</td>\n",
       "      <td>C0018</td>\n",
       "      <td>P037</td>\n",
       "      <td>2024-04-05 13:05:32</td>\n",
       "      <td>4</td>\n",
       "      <td>1839.44</td>\n",
       "      <td>459.86</td>\n",
       "      <td>Electronics</td>\n",
       "    </tr>\n",
       "    <tr>\n",
       "      <th>998</th>\n",
       "      <td>T00959</td>\n",
       "      <td>C0115</td>\n",
       "      <td>P037</td>\n",
       "      <td>2024-09-29 10:16:02</td>\n",
       "      <td>2</td>\n",
       "      <td>919.72</td>\n",
       "      <td>459.86</td>\n",
       "      <td>Electronics</td>\n",
       "    </tr>\n",
       "    <tr>\n",
       "      <th>999</th>\n",
       "      <td>T00992</td>\n",
       "      <td>C0024</td>\n",
       "      <td>P037</td>\n",
       "      <td>2024-04-21 10:52:24</td>\n",
       "      <td>1</td>\n",
       "      <td>459.86</td>\n",
       "      <td>459.86</td>\n",
       "      <td>Electronics</td>\n",
       "    </tr>\n",
       "  </tbody>\n",
       "</table>\n",
       "<p>1000 rows × 8 columns</p>\n",
       "</div>"
      ],
      "text/plain": [
       "    TransactionID CustomerID ProductID     TransactionDate  Quantity  \\\n",
       "0          T00001      C0199      P067 2024-08-25 12:38:23         1   \n",
       "1          T00112      C0146      P067 2024-05-27 22:23:54         1   \n",
       "2          T00166      C0127      P067 2024-04-25 07:38:55         1   \n",
       "3          T00272      C0087      P067 2024-03-26 22:55:37         2   \n",
       "4          T00363      C0070      P067 2024-03-21 15:10:10         3   \n",
       "..            ...        ...       ...                 ...       ...   \n",
       "995        T00496      C0118      P037 2024-10-24 08:30:27         1   \n",
       "996        T00759      C0059      P037 2024-06-04 02:15:24         3   \n",
       "997        T00922      C0018      P037 2024-04-05 13:05:32         4   \n",
       "998        T00959      C0115      P037 2024-09-29 10:16:02         2   \n",
       "999        T00992      C0024      P037 2024-04-21 10:52:24         1   \n",
       "\n",
       "     TotalValue   Price     Category  \n",
       "0        300.68  300.68  Electronics  \n",
       "1        300.68  300.68  Electronics  \n",
       "2        300.68  300.68  Electronics  \n",
       "3        601.36  300.68  Electronics  \n",
       "4        902.04  300.68  Electronics  \n",
       "..          ...     ...          ...  \n",
       "995      459.86  459.86  Electronics  \n",
       "996     1379.58  459.86  Electronics  \n",
       "997     1839.44  459.86  Electronics  \n",
       "998      919.72  459.86  Electronics  \n",
       "999      459.86  459.86  Electronics  \n",
       "\n",
       "[1000 rows x 8 columns]"
      ]
     },
     "execution_count": 12,
     "metadata": {},
     "output_type": "execute_result"
    }
   ],
   "source": [
    "transactions"
   ]
  },
  {
   "cell_type": "markdown",
   "metadata": {},
   "source": [
    "# Feature Engineering"
   ]
  },
  {
   "cell_type": "markdown",
   "metadata": {},
   "source": [
    "## Customer Features"
   ]
  },
  {
   "cell_type": "code",
   "execution_count": 6,
   "metadata": {},
   "outputs": [],
   "source": [
    "# One-hot encode 'Region'\n",
    "customers = pd.get_dummies(customers, columns=['Region'], prefix=['Region'])\n",
    "\n",
    "# Extract year and month from SignupDate\n",
    "customers['SignupYear'] = customers['SignupDate'].dt.year\n",
    "customers['SignupMonth'] = customers['SignupDate'].dt.month\n",
    "\n",
    "# Calculate days since signup\n",
    "today = datetime.now()\n",
    "customers['DaysSinceSignup'] = (today - customers['SignupDate']).dt.days"
   ]
  },
  {
   "cell_type": "markdown",
   "metadata": {},
   "source": [
    "## Transaction Features"
   ]
  },
  {
   "cell_type": "code",
   "execution_count": 7,
   "metadata": {},
   "outputs": [],
   "source": [
    "# Calculate Total Spending\n",
    "customer_spending = transactions.groupby('CustomerID')['TotalValue'].sum().reset_index()\n",
    "customer_spending.rename(columns={'TotalValue': 'TotalSpending'}, inplace=True)\n",
    "customers = pd.merge(customers, customer_spending, on='CustomerID', how='left')\n",
    "\n",
    "# Calculate Number of Purchases\n",
    "customer_purchases = transactions.groupby('CustomerID')['TransactionID'].count().reset_index()\n",
    "customer_purchases.rename(columns={'TransactionID': 'NumPurchases'}, inplace=True)\n",
    "customers = pd.merge(customers, customer_purchases, on='CustomerID', how='left')\n",
    "\n",
    "# Calculate Average Purchase Value\n",
    "customers['AvgPurchaseValue'] = customers['TotalSpending'] / customers['NumPurchases']\n",
    "\n",
    "# Create binary columns for category purchases\n",
    "category_purchases = pd.crosstab(transactions['CustomerID'], transactions['Category']).add_prefix('Category_')\n",
    "customers = pd.merge(customers, category_purchases, on='CustomerID', how='left')"
   ]
  },
  {
   "cell_type": "markdown",
   "metadata": {},
   "source": [
    "## Recency Features"
   ]
  },
  {
   "cell_type": "code",
   "execution_count": 8,
   "metadata": {},
   "outputs": [],
   "source": [
    "# Calculate Recency\n",
    "last_purchase_date = transactions.groupby('CustomerID')['TransactionDate'].max().reset_index()\n",
    "last_purchase_date.rename(columns={'TransactionDate': 'LastPurchaseDate'}, inplace=True)\n",
    "customers = pd.merge(customers, last_purchase_date, on='CustomerID', how='left')\n",
    "customers['Recency'] = (today - customers['LastPurchaseDate']).dt.days\n",
    "customers.drop('LastPurchaseDate', axis=1, inplace=True)"
   ]
  },
  {
   "cell_type": "markdown",
   "metadata": {},
   "source": [
    "## Check for NaN values"
   ]
  },
  {
   "cell_type": "code",
   "execution_count": 14,
   "metadata": {},
   "outputs": [
    {
     "data": {
      "text/plain": [
       "CustomerID              0\n",
       "CustomerName            0\n",
       "SignupDate              0\n",
       "Region_Asia             0\n",
       "Region_Europe           0\n",
       "Region_North America    0\n",
       "Region_South America    0\n",
       "SignupYear              0\n",
       "SignupMonth             0\n",
       "DaysSinceSignup         0\n",
       "TotalSpending           1\n",
       "NumPurchases            1\n",
       "AvgPurchaseValue        1\n",
       "Category_Books          1\n",
       "Category_Clothing       1\n",
       "Category_Electronics    1\n",
       "Category_Home Decor     1\n",
       "Recency                 1\n",
       "dtype: int64"
      ]
     },
     "execution_count": 14,
     "metadata": {},
     "output_type": "execute_result"
    }
   ],
   "source": [
    "# Check for NaN values\n",
    "customers.isnull().sum()"
   ]
  },
  {
   "cell_type": "code",
   "execution_count": 16,
   "metadata": {},
   "outputs": [],
   "source": [
    "# Drop rows with NaN values\n",
    "customers.dropna(inplace=True)"
   ]
  },
  {
   "cell_type": "markdown",
   "metadata": {},
   "source": [
    "# Similarity Calculation"
   ]
  },
  {
   "cell_type": "markdown",
   "metadata": {},
   "source": [
    "## Feature Calculation"
   ]
  },
  {
   "cell_type": "code",
   "execution_count": 18,
   "metadata": {},
   "outputs": [],
   "source": [
    "features_for_similarity = ['SignupYear', 'SignupMonth', 'DaysSinceSignup', 'TotalSpending', \n",
    "                           'NumPurchases', 'AvgPurchaseValue', 'Recency'] + list(category_purchases.columns)\n",
    "# Add one-hot encoded region columns\n",
    "features_for_similarity += [col for col in customers.columns if 'Region_' in col]"
   ]
  },
  {
   "cell_type": "markdown",
   "metadata": {},
   "source": [
    "## Standardization"
   ]
  },
  {
   "cell_type": "code",
   "execution_count": 19,
   "metadata": {},
   "outputs": [],
   "source": [
    "# Separate numerical and categorical features\n",
    "numerical_features = ['SignupYear', 'SignupMonth', 'DaysSinceSignup', 'TotalSpending', 'NumPurchases', 'AvgPurchaseValue','Recency']\n",
    "categorical_features = list(category_purchases.columns) + [col for col in customers.columns if 'Region_' in col]\n",
    "\n",
    "# Standardize numerical features\n",
    "scaler = StandardScaler()\n",
    "customers[numerical_features] = scaler.fit_transform(customers[numerical_features])"
   ]
  },
  {
   "cell_type": "markdown",
   "metadata": {},
   "source": [
    "## Cosine Similarity Calculation"
   ]
  },
  {
   "cell_type": "code",
   "execution_count": 20,
   "metadata": {},
   "outputs": [],
   "source": [
    "# Prepare the feature matrix for similarity calculation\n",
    "customer_features = customers[features_for_similarity]\n",
    "\n",
    "# Calculate cosine similarity\n",
    "similarity_matrix = cosine_similarity(customer_features)"
   ]
  },
  {
   "cell_type": "markdown",
   "metadata": {},
   "source": [
    "# Lookalike Recommendation"
   ]
  },
  {
   "cell_type": "markdown",
   "metadata": {},
   "source": [
    "## Lookalike Function"
   ]
  },
  {
   "cell_type": "code",
   "execution_count": 21,
   "metadata": {},
   "outputs": [],
   "source": [
    "def get_lookalikes(customer_id, similarity_matrix, customers_df, top_n=3):\n",
    "    customer_index = customers_df[customers_df['CustomerID'] == customer_id].index[0]\n",
    "    similar_customers = list(enumerate(similarity_matrix[customer_index]))\n",
    "    similar_customers = sorted(similar_customers, key=lambda x: x[1], reverse=True)\n",
    "    top_similar_customers = similar_customers[1:top_n + 1]  # Exclude the customer itself\n",
    "\n",
    "    lookalikes = []\n",
    "    for index, score in top_similar_customers:\n",
    "        lookalike_id = customers_df.iloc[index]['CustomerID']\n",
    "        lookalikes.append((lookalike_id, score))\n",
    "    return lookalikes"
   ]
  },
  {
   "cell_type": "markdown",
   "metadata": {},
   "source": [
    "## Generate Lookalike Recommendations for first 20 customers"
   ]
  },
  {
   "cell_type": "code",
   "execution_count": 22,
   "metadata": {},
   "outputs": [],
   "source": [
    "lookalike_data = []\n",
    "for i in range(1, 21):\n",
    "    customer_id = f'C{i:04}'\n",
    "    lookalikes = get_lookalikes(customer_id, similarity_matrix, customers)\n",
    "    lookalike_data.append({'cust_id': customer_id, 'lookalikes': lookalikes})\n",
    "\n",
    "lookalike_df = pd.DataFrame(lookalike_data)"
   ]
  },
  {
   "cell_type": "markdown",
   "metadata": {},
   "source": [
    "## Generate Lookalike.csv file"
   ]
  },
  {
   "cell_type": "code",
   "execution_count": 25,
   "metadata": {},
   "outputs": [],
   "source": [
    "lookalike_dict = {}\n",
    "for index, row in lookalike_df.iterrows():\n",
    "    cust_id = row['cust_id']\n",
    "    lookalikes_list = []\n",
    "    for lookalike_id, score in row['lookalikes']:\n",
    "        lookalikes_list.append([lookalike_id, score])\n",
    "    lookalike_dict[cust_id] = lookalikes_list\n",
    "\n",
    "lookalike_final_df = pd.DataFrame(list(lookalike_dict.items()), columns=['cust_id', 'List<cust_id, score>'])"
   ]
  },
  {
   "cell_type": "code",
   "execution_count": 26,
   "metadata": {},
   "outputs": [
    {
     "data": {
      "text/html": [
       "<div>\n",
       "<style scoped>\n",
       "    .dataframe tbody tr th:only-of-type {\n",
       "        vertical-align: middle;\n",
       "    }\n",
       "\n",
       "    .dataframe tbody tr th {\n",
       "        vertical-align: top;\n",
       "    }\n",
       "\n",
       "    .dataframe thead th {\n",
       "        text-align: right;\n",
       "    }\n",
       "</style>\n",
       "<table border=\"1\" class=\"dataframe\">\n",
       "  <thead>\n",
       "    <tr style=\"text-align: right;\">\n",
       "      <th></th>\n",
       "      <th>cust_id</th>\n",
       "      <th>List&lt;cust_id, score&gt;</th>\n",
       "    </tr>\n",
       "  </thead>\n",
       "  <tbody>\n",
       "    <tr>\n",
       "      <th>0</th>\n",
       "      <td>C0001</td>\n",
       "      <td>[[C0184, 0.8355257283673876], [C0005, 0.799847...</td>\n",
       "    </tr>\n",
       "    <tr>\n",
       "      <th>1</th>\n",
       "      <td>C0002</td>\n",
       "      <td>[[C0134, 0.9651268284105505], [C0166, 0.849010...</td>\n",
       "    </tr>\n",
       "    <tr>\n",
       "      <th>2</th>\n",
       "      <td>C0003</td>\n",
       "      <td>[[C0129, 0.9035246927758588], [C0031, 0.883629...</td>\n",
       "    </tr>\n",
       "    <tr>\n",
       "      <th>3</th>\n",
       "      <td>C0004</td>\n",
       "      <td>[[C0113, 0.9370076150944698], [C0122, 0.868311...</td>\n",
       "    </tr>\n",
       "    <tr>\n",
       "      <th>4</th>\n",
       "      <td>C0005</td>\n",
       "      <td>[[C0007, 0.9064548766601567], [C0199, 0.812312...</td>\n",
       "    </tr>\n",
       "    <tr>\n",
       "      <th>5</th>\n",
       "      <td>C0006</td>\n",
       "      <td>[[C0187, 0.7825101903373963], [C0126, 0.779802...</td>\n",
       "    </tr>\n",
       "    <tr>\n",
       "      <th>6</th>\n",
       "      <td>C0007</td>\n",
       "      <td>[[C0005, 0.9064548766601567], [C0112, 0.773751...</td>\n",
       "    </tr>\n",
       "    <tr>\n",
       "      <th>7</th>\n",
       "      <td>C0008</td>\n",
       "      <td>[[C0194, 0.8915192640736973], [C0059, 0.869261...</td>\n",
       "    </tr>\n",
       "    <tr>\n",
       "      <th>8</th>\n",
       "      <td>C0009</td>\n",
       "      <td>[[C0077, 0.8225586718117179], [C0010, 0.778424...</td>\n",
       "    </tr>\n",
       "    <tr>\n",
       "      <th>9</th>\n",
       "      <td>C0010</td>\n",
       "      <td>[[C0077, 0.8049878155520012], [C0062, 0.799237...</td>\n",
       "    </tr>\n",
       "    <tr>\n",
       "      <th>10</th>\n",
       "      <td>C0011</td>\n",
       "      <td>[[C0174, 0.9192167287253402], [C0171, 0.871210...</td>\n",
       "    </tr>\n",
       "    <tr>\n",
       "      <th>11</th>\n",
       "      <td>C0012</td>\n",
       "      <td>[[C0065, 0.9467929700425538], [C0136, 0.883555...</td>\n",
       "    </tr>\n",
       "    <tr>\n",
       "      <th>12</th>\n",
       "      <td>C0013</td>\n",
       "      <td>[[C0028, 0.8880222517063681], [C0105, 0.839854...</td>\n",
       "    </tr>\n",
       "    <tr>\n",
       "      <th>13</th>\n",
       "      <td>C0014</td>\n",
       "      <td>[[C0058, 0.8821484901548394], [C0097, 0.847664...</td>\n",
       "    </tr>\n",
       "    <tr>\n",
       "      <th>14</th>\n",
       "      <td>C0015</td>\n",
       "      <td>[[C0123, 0.8345135178274553], [C0036, 0.708693...</td>\n",
       "    </tr>\n",
       "    <tr>\n",
       "      <th>15</th>\n",
       "      <td>C0016</td>\n",
       "      <td>[[C0183, 0.9998194959714107], [C0013, 0.838361...</td>\n",
       "    </tr>\n",
       "    <tr>\n",
       "      <th>16</th>\n",
       "      <td>C0017</td>\n",
       "      <td>[[C0041, 0.9328017512047093], [C0090, 0.898126...</td>\n",
       "    </tr>\n",
       "    <tr>\n",
       "      <th>17</th>\n",
       "      <td>C0018</td>\n",
       "      <td>[[C0117, 0.8774937341377764], [C0114, 0.836205...</td>\n",
       "    </tr>\n",
       "    <tr>\n",
       "      <th>18</th>\n",
       "      <td>C0019</td>\n",
       "      <td>[[C0191, 0.8179812104597595], [C0070, 0.811276...</td>\n",
       "    </tr>\n",
       "    <tr>\n",
       "      <th>19</th>\n",
       "      <td>C0020</td>\n",
       "      <td>[[C0110, 0.9077044030799322], [C0080, 0.869444...</td>\n",
       "    </tr>\n",
       "  </tbody>\n",
       "</table>\n",
       "</div>"
      ],
      "text/plain": [
       "   cust_id                               List<cust_id, score>\n",
       "0    C0001  [[C0184, 0.8355257283673876], [C0005, 0.799847...\n",
       "1    C0002  [[C0134, 0.9651268284105505], [C0166, 0.849010...\n",
       "2    C0003  [[C0129, 0.9035246927758588], [C0031, 0.883629...\n",
       "3    C0004  [[C0113, 0.9370076150944698], [C0122, 0.868311...\n",
       "4    C0005  [[C0007, 0.9064548766601567], [C0199, 0.812312...\n",
       "5    C0006  [[C0187, 0.7825101903373963], [C0126, 0.779802...\n",
       "6    C0007  [[C0005, 0.9064548766601567], [C0112, 0.773751...\n",
       "7    C0008  [[C0194, 0.8915192640736973], [C0059, 0.869261...\n",
       "8    C0009  [[C0077, 0.8225586718117179], [C0010, 0.778424...\n",
       "9    C0010  [[C0077, 0.8049878155520012], [C0062, 0.799237...\n",
       "10   C0011  [[C0174, 0.9192167287253402], [C0171, 0.871210...\n",
       "11   C0012  [[C0065, 0.9467929700425538], [C0136, 0.883555...\n",
       "12   C0013  [[C0028, 0.8880222517063681], [C0105, 0.839854...\n",
       "13   C0014  [[C0058, 0.8821484901548394], [C0097, 0.847664...\n",
       "14   C0015  [[C0123, 0.8345135178274553], [C0036, 0.708693...\n",
       "15   C0016  [[C0183, 0.9998194959714107], [C0013, 0.838361...\n",
       "16   C0017  [[C0041, 0.9328017512047093], [C0090, 0.898126...\n",
       "17   C0018  [[C0117, 0.8774937341377764], [C0114, 0.836205...\n",
       "18   C0019  [[C0191, 0.8179812104597595], [C0070, 0.811276...\n",
       "19   C0020  [[C0110, 0.9077044030799322], [C0080, 0.869444..."
      ]
     },
     "execution_count": 26,
     "metadata": {},
     "output_type": "execute_result"
    }
   ],
   "source": [
    "lookalike_final_df"
   ]
  },
  {
   "cell_type": "code",
   "execution_count": 27,
   "metadata": {},
   "outputs": [],
   "source": [
    "lookalike_final_df.to_csv(\"Lookalike.csv\", index=False)"
   ]
  }
 ],
 "metadata": {
  "kernelspec": {
   "display_name": "Python 3",
   "language": "python",
   "name": "python3"
  },
  "language_info": {
   "codemirror_mode": {
    "name": "ipython",
    "version": 3
   },
   "file_extension": ".py",
   "mimetype": "text/x-python",
   "name": "python",
   "nbconvert_exporter": "python",
   "pygments_lexer": "ipython3",
   "version": "3.12.6"
  }
 },
 "nbformat": 4,
 "nbformat_minor": 2
}
